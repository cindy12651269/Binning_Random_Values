{
  "nbformat": 4,
  "nbformat_minor": 0,
  "metadata": {
    "colab": {
      "provenance": [],
      "authorship_tag": "ABX9TyOnvsQsaV26NbkbkDRkcIxd",
      "include_colab_link": true
    },
    "kernelspec": {
      "name": "python3",
      "display_name": "Python 3"
    },
    "language_info": {
      "name": "python"
    }
  },
  "cells": [
    {
      "cell_type": "markdown",
      "metadata": {
        "id": "view-in-github",
        "colab_type": "text"
      },
      "source": [
        "<a href=\"https://colab.research.google.com/github/cindy12651269/Binning_Random_Values/blob/cindy12651269%2Fhw1/Binning_Random_Values_py.ipynb\" target=\"_parent\"><img src=\"https://colab.research.google.com/assets/colab-badge.svg\" alt=\"Open In Colab\"/></a>"
      ]
    },
    {
      "cell_type": "code",
      "execution_count": null,
      "metadata": {
        "id": "Yw2a6RRKo2-v"
      },
      "outputs": [],
      "source": [
        "import numpy as np\n",
        "import pandas as pd\n",
        "\n",
        "# Generate random data\n",
        "df = pd.DataFrame(np.random.random(100)*100, columns=['value'])\n",
        "\n",
        "# Read the number of categories from user input\n",
        "n = int(input(\"Enter the number of categories\"))\n",
        "\n",
        "# Bin the data into n categories, starting from index 1\n",
        "df['category']= pd.cut(df['value'], bins = n, labels=[f\"category{i+1} for i in range(n)\"])\n",
        "print(df)"
      ]
    }
  ]
}